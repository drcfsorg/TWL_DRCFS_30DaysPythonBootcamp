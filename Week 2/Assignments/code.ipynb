{
 "cells": [
  {
   "cell_type": "markdown",
   "metadata": {},
   "source": [
    "### Feel free to add as much lines as you want between ## START CODE HERE and ## END CODE HERE.\n",
    "### Please donot write code outside this boundry or you may fail the test."
   ]
  },
  {
   "cell_type": "code",
   "execution_count": 2,
   "metadata": {},
   "outputs": [],
   "source": [
    "# start by importing the necessary documents\n",
    "\n",
    "import random\n",
    "import string "
   ]
  },
  {
   "cell_type": "markdown",
   "metadata": {},
   "source": [
    "The following are the requirements for POOR / MODERATE / STRONG password.\n",
    "\n",
    "Passwords can contain (not required) any of the following requirements:  \n",
    "i. Lower case letters (a – z).       &nbsp;&nbsp;   iii) Numbers ( 0 – 9 ).  \n",
    "ii. Upper case letters (A – Z).   &nbsp;&nbsp;   iv) Symbols ( ! + - = ? # % * @ & ^ $ _ )\n",
    "\n",
    "A POOR Password is defined as: \n",
    "\n",
    "a. Contains less than 3 from the above 4 items ( i – iv ).  \n",
    "b. Less than 8 characters in length.\n",
    "\n",
    "A MODERATE Password is defined as:  \n",
    "\n",
    "a. Contains 3 from the above 4 items ( i – iv )  \n",
    "b. Between 8 to 10 characters in length.\n",
    "\n",
    "A STRONG Password is defined as:  \n",
    "\n",
    "a. Meets all 4 of the above items ( i – iv )  \n",
    "b. Greater than 10 characters in length."
   ]
  },
  {
   "cell_type": "code",
   "execution_count": 3,
   "metadata": {},
   "outputs": [],
   "source": [
    "def rank(pwd: str) -> str:\n",
    "    '''\n",
    "    Ranker function that ranks the password based on the assigned criteria\n",
    "    Input: pwd -> character or string\n",
    "    Returns: rank -> rank of password; POOR / MODERATE / STRONG\n",
    "    '''\n",
    "    ## Start code here\n",
    "    \n",
    "    ## End code here\n",
    "    return rank"
   ]
  },
  {
   "cell_type": "markdown",
   "metadata": {},
   "source": [
    "## Steps to follow for first option:\n",
    "1. Ask user to rank password from either Users-Pwds.txt or a custom file (second part for bonus only you can skip this)\n",
    "2. Open the file containing username and password in each line and a file to store the ranked password information(Users-Pwds-Chked.txt).\n",
    "2. <b> !IMPORTANT Store the list of username,passwords in a variable called usrpwds. </b>\n",
    "3. Use the rank() function to rank the password\n",
    "4. Write to the Users-Pwds-Chked.txt file (username,password,rank) in each line as string. Omit the brackets and only fill up the actual values. \n",
    "5. Close necessary files and print to terminal."
   ]
  },
  {
   "cell_type": "code",
   "execution_count": 4,
   "metadata": {},
   "outputs": [],
   "source": [
    "def option1():\n",
    "    '''\n",
    "    Helper function that will be executed when user selects option 1 in the initial case.\n",
    "    '''\n",
    "    # Hint: See the steps above and formulate them in code.\n",
    "    ## START CODE HERE\n",
    "\n",
    "    ## END CODE HERE\n",
    "\n",
    "    print('#'*80)\n",
    "    # [INFO] Be sure to change userpwds with the name of variable that you give to the list of passwords\n",
    "    print('[INFO] '+'Number of passwords checked:',str(len(usrpwds))) \n",
    "    print('[INFO] '+'The given rankings can be found in Users-Pwds-Chked.txt')\n",
    "    print('#'*80)"
   ]
  },
  {
   "cell_type": "markdown",
   "metadata": {},
   "source": [
    "## Steps to follow for second option:\n",
    "1. Prompt the user for a username (No more the 20 characters in length).\n",
    "2. Create a Function that will have no (zero) arguments. (generate)\n",
    "3. The Function will randomly generate a STRONG password (Meeting the STRONG Requirments).\n",
    "4. Ask the user if they would like this saved (Y or N).\n",
    "5. If Y: Open the Input file (Users-Pwds.txt) and append the username,password to the EOF.\n",
    "6. If N: Ask if they would like to generate a different password for this user (Y or N).\n",
    "7. Then the program loops back to the menu again offering displaying and offering to select 1, 2 or 3."
   ]
  },
  {
   "cell_type": "code",
   "execution_count": 5,
   "metadata": {},
   "outputs": [],
   "source": [
    "def option2():\n",
    "    '''\n",
    "    Function to be executed when the user selects option 2 (generate password) in the main loop.\n",
    "    '''\n",
    "\n",
    "    def generate() -> str:\n",
    "        '''\n",
    "        Helper function to generate password.\n",
    "        Returns: A string pwd with strong ranking in our ranking system.\n",
    "        '''\n",
    "        # Starter code, Ualphabets contains all upper case alphabets\n",
    "        # Lalphabets condains all lowercase alphabets\n",
    "        # chars contains all special characters and digits contains all numeric digits\n",
    "        Ualphabets = string.ascii_uppercase\n",
    "        Lalphabets = string.ascii_lowercase\n",
    "        chars = string.punctuation\n",
    "        digits = string.digits\n",
    "        pwd = ''\n",
    "        # Hint: user random.choice to select a random Upperalphabet(Ualphabet), Lalphabet, chars, and digits. Join then all together in pwd and check ranking\n",
    "        # While the required ranking is not met continue joining new Ualphabet, Lalphabet, chars and digits.\n",
    "        \n",
    "        ## START CODE HERE\n",
    "\n",
    "        ## END CODE HERE\n",
    "        return pwd\n",
    "    \n",
    "    # Ask for username and check 20 character limits\n",
    "\n",
    "    ## START CODE HERE\n",
    "\n",
    "    ## END CODE HERE\n",
    "\n",
    "    # Generate the password using generate() and follow the steps as guided in the function header. \n",
    "\n",
    "    ## START CODE HERE\n",
    "\n",
    "    ## END CODE HERE"
   ]
  },
  {
   "cell_type": "markdown",
   "metadata": {},
   "source": [
    "### Now you will write the main function to integrate all the code that you have written above"
   ]
  },
  {
   "cell_type": "code",
   "execution_count": 6,
   "metadata": {},
   "outputs": [],
   "source": [
    "def main():\n",
    "\n",
    "    print('Welcome to my password ranking program')\n",
    "    while True:\n",
    "        print('-'*40)\n",
    "        print('Please select one of 3 options')\n",
    "        print('option1. Rank password from an existing file \\t option2. Generate a strong password \\noption3. exit the program')\n",
    "        inp = input(\"Enter your option here:\")\n",
    "        \n",
    "        # try converting the inp to integer form and then check condition if input was either option1, 2, 3 or something else. \n",
    "        # exit the loop by using the break command if the user selects 3 other wise use option1() and option 2() function \n",
    "\n",
    "        ## START CODE HERE\n",
    "\n",
    "        ## END CODE HERE"
   ]
  },
  {
   "cell_type": "code",
   "execution_count": 7,
   "metadata": {},
   "outputs": [
    {
     "name": "stdout",
     "output_type": "stream",
     "text": [
      "Welcome to my password ranking program\n",
      "----------------------------------------\n",
      "Please select one of 3 options\n",
      "option1. Rank password from an existing file \t option2. Generate a strong password \n",
      "option3. exit the program\n",
      "----------------------------------------\n",
      "Please select one of 3 options\n",
      "option1. Rank password from an existing file \t option2. Generate a strong password \n",
      "option3. exit the program\n",
      "----------------------------------------\n",
      "Please select one of 3 options\n",
      "option1. Rank password from an existing file \t option2. Generate a strong password \n",
      "option3. exit the program\n",
      "----------------------------------------\n",
      "Please select one of 3 options\n",
      "option1. Rank password from an existing file \t option2. Generate a strong password \n",
      "option3. exit the program\n",
      "----------------------------------------\n",
      "Please select one of 3 options\n",
      "option1. Rank password from an existing file \t option2. Generate a strong password \n",
      "option3. exit the program\n"
     ]
    }
   ],
   "source": [
    "# to test your code run the following\n",
    "main()"
   ]
  },
  {
   "cell_type": "code",
   "execution_count": null,
   "metadata": {},
   "outputs": [],
   "source": []
  }
 ],
 "metadata": {
  "kernelspec": {
   "display_name": "dsa",
   "language": "python",
   "name": "python3"
  },
  "language_info": {
   "codemirror_mode": {
    "name": "ipython",
    "version": 3
   },
   "file_extension": ".py",
   "mimetype": "text/x-python",
   "name": "python",
   "nbconvert_exporter": "python",
   "pygments_lexer": "ipython3",
   "version": "3.8.15"
  },
  "orig_nbformat": 4,
  "vscode": {
   "interpreter": {
    "hash": "da5a28ea0d0681d4b38cc6a424b555f43582d77cc3786ec8475418c57a7d8b87"
   }
  }
 },
 "nbformat": 4,
 "nbformat_minor": 2
}
