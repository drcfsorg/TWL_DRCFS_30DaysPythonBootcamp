{
 "cells": [
  {
   "cell_type": "code",
   "execution_count": 8,
   "metadata": {},
   "outputs": [
    {
     "name": "stdout",
     "output_type": "stream",
     "text": [
      "['Anuj', 'Ashim', 'Saugat', 'Bisahl']\n",
      "Bisahl\n",
      "Anuj\n",
      "Ashim\n",
      "Saugat\n",
      "Bisahl\n"
     ]
    }
   ],
   "source": [
    "#lists\n",
    "Mentors_names = [\"Anuj\", \"Ashim\", \"Saugat\", \"Bisahl\"]\n",
    "print(Mentors_names)\n",
    "print(Mentors_names[3])\n",
    "\n",
    "for Mentor in Mentors_names:\n",
    "    print(Mentor)\n",
    "\n",
    "    Mentors_names.pop(0)\n",
    "    Mentors_names.insert(0, \"Anuj\")"
   ]
  },
  {
   "cell_type": "code",
   "execution_count": null,
   "metadata": {},
   "outputs": [],
   "source": []
  },
  {
   "cell_type": "code",
   "execution_count": 2,
   "metadata": {},
   "outputs": [
    {
     "name": "stdout",
     "output_type": "stream",
     "text": [
      "{'duck': 'pond', 'chicken': 'egg'}\n",
      "pond\n"
     ]
    }
   ],
   "source": [
    "#usernamae -> password dictionary\n",
    "#dictionary, it is mutable, it values can be changed\n",
    "user_pass = {\"duck\": \"pond\", \"chicken\" : \"egg\"}\n",
    "print(user_pass)\n",
    "#Acessing value from dictionary\n",
    "print(user_pass.get(\"duck\"))"
   ]
  },
  {
   "cell_type": "code",
   "execution_count": 4,
   "metadata": {},
   "outputs": [
    {
     "name": "stdout",
     "output_type": "stream",
     "text": [
      "lake\n"
     ]
    },
    {
     "data": {
      "text/plain": [
       "'lake'"
      ]
     },
     "execution_count": 4,
     "metadata": {},
     "output_type": "execute_result"
    }
   ],
   "source": [
    "user_pass[\"duck\"] = \"lake\"\n",
    "print(user_pass.get(\"duck\"))\n",
    "\n",
    "\n",
    "#Delete someyhing from dictionary\n",
    "user_pass.pop(\"duck\")"
   ]
  },
  {
   "cell_type": "markdown",
   "metadata": {},
   "source": [
    "# Loi"
   ]
  },
  {
   "cell_type": "markdown",
   "metadata": {},
   "source": [
    "List and Tuples"
   ]
  }
 ],
 "metadata": {
  "kernelspec": {
   "display_name": "Python 3.11.0 64-bit",
   "language": "python",
   "name": "python3"
  },
  "language_info": {
   "codemirror_mode": {
    "name": "ipython",
    "version": 3
   },
   "file_extension": ".py",
   "mimetype": "text/x-python",
   "name": "python",
   "nbconvert_exporter": "python",
   "pygments_lexer": "ipython3",
   "version": "3.11.0"
  },
  "orig_nbformat": 4,
  "vscode": {
   "interpreter": {
    "hash": "1f6a27bcfbe46a917dbd192f4a82657396dda26148bae633192e8d28c70725f1"
   }
  }
 },
 "nbformat": 4,
 "nbformat_minor": 2
}
