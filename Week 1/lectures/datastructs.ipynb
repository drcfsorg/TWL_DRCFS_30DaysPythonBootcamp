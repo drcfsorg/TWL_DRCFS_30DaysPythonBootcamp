{
 "cells": [
  {
   "cell_type": "markdown",
   "metadata": {},
   "source": [
    "List and Tuples"
   ]
  },
  {
   "cell_type": "code",
   "execution_count": 20,
   "metadata": {},
   "outputs": [
    {
     "name": "stdout",
     "output_type": "stream",
     "text": [
      "Anuj\n"
     ]
    }
   ],
   "source": [
    "# List\n",
    "mentor_names = [\"Anuj\", 'Ashim', 'Samrid', 'Bishal', 'Saugat', 'Utsav', 'Hari']\n",
    "\n",
    "# accessing list's values\n",
    "# Index always starts from 0\n",
    "print(mentor_names[0])"
   ]
  },
  {
   "cell_type": "code",
   "execution_count": 19,
   "metadata": {},
   "outputs": [
    {
     "name": "stdout",
     "output_type": "stream",
     "text": [
      "['Anuj', 'Ashim', 'Samrid', 'Bishal', 'Saugat', 'Utsav', 'Hari', 'Name']\n",
      "['Ashim', 'Samrid', 'Bishal', 'Saugat', 'Utsav', 'Hari', 'Name']\n",
      "['Anuj', 'Ashim', 'Samrid', 'Bishal', 'Saugat', 'Utsav', 'Hari', 'Name']\n",
      "['Samrid', 'Ashim', 'Samrid', 'Bishal', 'Saugat', 'Utsav', 'Hari', 'Name']\n"
     ]
    }
   ],
   "source": [
    "mentor_names = [\"Anuj\", 'Ashim', 'Samrid', 'Bishal', 'Saugat', 'Utsav', 'Hari']\n",
    "\n",
    "# Add something to list\n",
    "mentor_names.append('Name')\n",
    "print(mentor_names)\n",
    "\n",
    "# Removes the element of index 0\n",
    "mentor_names.pop(0)\n",
    "print(mentor_names)\n",
    "\n",
    "# Insert into specific index\n",
    "mentor_names.insert(0, 'Anuj')\n",
    "print(mentor_names)\n",
    "\n",
    "# Replace the value\n",
    "mentor_names[0] = 'Samrid'\n",
    "print(mentor_names)"
   ]
  },
  {
   "cell_type": "markdown",
   "metadata": {},
   "source": [
    "List is Mutable, we can change things in this variable\n",
    "\n",
    "Redeclaration:\n",
    "a = \"samrid\"\n",
    "a = \"abc\"\n",
    "\n",
    "### Interior Mutability\n",
    "li1 = [1, 2, 3]\n",
    "li1.append(4)\n"
   ]
  },
  {
   "cell_type": "code",
   "execution_count": 12,
   "metadata": {},
   "outputs": [
    {
     "name": "stdout",
     "output_type": "stream",
     "text": [
      "Samrid Pandit\n"
     ]
    }
   ],
   "source": [
    "# String is immutable\n",
    "name = \"Samrid\"\n",
    "name = name + ' Pandit'\n",
    "print(name)"
   ]
  },
  {
   "cell_type": "markdown",
   "metadata": {},
   "source": [
    "List vs Tuple:\n",
    "\n",
    "List:\n",
    "1. Initialization -> [1, 2]\n",
    "2. Mutable\n",
    "\n",
    "Tuple:\n",
    "1. Initialization -> ('something', 'something')\n",
    "2. Immutable\n"
   ]
  },
  {
   "cell_type": "code",
   "execution_count": 32,
   "metadata": {},
   "outputs": [
    {
     "name": "stdout",
     "output_type": "stream",
     "text": [
      "(0, 'red')\n",
      "(1, 'violet')\n",
      "(2, 'green')\n",
      "(3, 'blue')\n",
      "(4, 'yellow')\n",
      "(5, 'indigo')\n",
      "(6, 'orange')\n"
     ]
    }
   ],
   "source": [
    "# Tuple\n",
    "rainbow_colors = ('red', 'violet', 'green', 'blue', 'yellow', 'indigo', 'orange')\n",
    "\n",
    "for val in enumerate(rainbow_colors):\n",
    "    print(val)"
   ]
  },
  {
   "cell_type": "code",
   "execution_count": 27,
   "metadata": {},
   "outputs": [
    {
     "name": "stdout",
     "output_type": "stream",
     "text": [
      "0\n",
      "7\n"
     ]
    }
   ],
   "source": [
    "index = rainbow_colors.index('red')\n",
    "print(index)\n",
    "\n",
    "# Length of list or tuple\n",
    "print(len(rainbow_colors))"
   ]
  },
  {
   "cell_type": "markdown",
   "metadata": {},
   "source": [
    "## Dictionary\n",
    "Dictionary is mutable.\n",
    "\n",
    "key -> value\n",
    "\n",
    "### Example:\n",
    "Login system\n",
    "\n"
   ]
  },
  {
   "cell_type": "code",
   "execution_count": 14,
   "metadata": {},
   "outputs": [
    {
     "name": "stdout",
     "output_type": "stream",
     "text": [
      "pond\n",
      "egg\n"
     ]
    }
   ],
   "source": [
    "# username -> password dictionary\n",
    "user_pass = {\n",
    "    'chicken': 'egg',\n",
    "    'random': 'random',\n",
    "    'duck': 'pond',\n",
    "}\n",
    "\n",
    "# Accessing the value from dictionary\n",
    "# It returns None if the key is not found\n",
    "print(user_pass.get('duck'))\n",
    "\n",
    "# Accessing the value from dictionary\n",
    "# It throws KeyError if they key is not found\n",
    "print(user_pass['chicken'])"
   ]
  },
  {
   "cell_type": "code",
   "execution_count": 24,
   "metadata": {},
   "outputs": [
    {
     "name": "stdout",
     "output_type": "stream",
     "text": [
      "None\n"
     ]
    }
   ],
   "source": [
    "# Replacing the value using key\n",
    "user_pass['duck'] = 'lake'\n",
    "\n",
    "# Delete something from dictionary\n",
    "user_pass.pop('duck')\n",
    "\n",
    "print(user_pass.get('duck'))"
   ]
  },
  {
   "cell_type": "code",
   "execution_count": 37,
   "metadata": {},
   "outputs": [
    {
     "name": "stdout",
     "output_type": "stream",
     "text": [
      "dict_items([('chicken', 'egg'), ('random', 'random'), ('abc', 'lake'), ('sangeet', 'password')])\n"
     ]
    }
   ],
   "source": [
    "# for user in user_pass.items():\n",
    "#     print(user)\n",
    "\n",
    "# print(user_pass.values())\n",
    "# print(user_pass.keys())\n",
    "\n",
    "print(user_pass.items())\n",
    "    "
   ]
  },
  {
   "cell_type": "code",
   "execution_count": 35,
   "metadata": {},
   "outputs": [],
   "source": [
    "# Add items to the dictionary\n",
    "user_pass['sangeet'] = 'password'"
   ]
  },
  {
   "cell_type": "markdown",
   "metadata": {},
   "source": [
    "## Login System\n",
    "\n",
    "1. Take input from user, about their username and pssword\n",
    "2. Try to get their password from the dictionary\n",
    "3. If the password is None, user doesn't exist\n",
    "4. If the password matches with the password given by the user, say you're logged in\n",
    "    else say incorrect password."
   ]
  },
  {
   "cell_type": "code",
   "execution_count": 38,
   "metadata": {},
   "outputs": [
    {
     "name": "stdout",
     "output_type": "stream",
     "text": [
      "User does not exist\n"
     ]
    }
   ],
   "source": [
    "# Login system\n",
    "username = input('What is your username?')\n",
    "input_password = input('What is your password?')\n",
    "\n",
    "real_password = user_pass.get(username)\n",
    "\n",
    "if real_password is None:\n",
    "    print('User does not exist')\n",
    "elif real_password == input_password:\n",
    "    print('You are logged in')\n",
    "else:\n",
    "    print('Incorrect password')"
   ]
  },
  {
   "cell_type": "code",
   "execution_count": 41,
   "metadata": {},
   "outputs": [
    {
     "name": "stdout",
     "output_type": "stream",
     "text": [
      "abc\n"
     ]
    }
   ],
   "source": [
    "a = [\n",
    "    [1,2,3],\n",
    "    [2,3,4]\n",
    "]"
   ]
  }
 ],
 "metadata": {
  "kernelspec": {
   "display_name": "Python 3.10.8 64-bit",
   "language": "python",
   "name": "python3"
  },
  "language_info": {
   "codemirror_mode": {
    "name": "ipython",
    "version": 3
   },
   "file_extension": ".py",
   "mimetype": "text/x-python",
   "name": "python",
   "nbconvert_exporter": "python",
   "pygments_lexer": "ipython3",
   "version": "3.10.8"
  },
  "orig_nbformat": 4,
  "vscode": {
   "interpreter": {
    "hash": "d2aa9519aea3ba95bfd343058fe0f3cde72faf1886b2efafdd1015fc8064c51d"
   }
  }
 },
 "nbformat": 4,
 "nbformat_minor": 2
}
