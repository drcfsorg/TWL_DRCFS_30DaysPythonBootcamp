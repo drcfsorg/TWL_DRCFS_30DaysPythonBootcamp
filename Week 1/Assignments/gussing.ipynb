{
 "cells": [
  {
   "cell_type": "code",
   "execution_count": 1,
   "metadata": {},
   "outputs": [],
   "source": [
    "import random\n",
    "random_number = random.randint(1, 10)\n",
    "Player_name = input(\"Enter your name: \")\n",
    "print(\"The name of the player is \" + Player_name )\n",
    "guess = int(input(\"enter your guess number: \"))\n",
    "attempts = 0\n",
    "\n",
    "while attempts == 5:\n",
    "    attempts = attempts + 1\n",
    "    if guess < random_number:\n",
    "        print(\"Your value is too low\")\n",
    "    elif guess > random_number:\n",
    "        print(\"Your value is too low\")\n",
    "    elif guess == random_number:\n",
    "        print(\"Hurrah! Your did it\")\n",
    "    else:\n",
    "        break\n"
   ]
  }
 ],
 "metadata": {
  "kernelspec": {
   "display_name": "Python 3.11.0 64-bit",
   "language": "python",
   "name": "python3"
  },
  "language_info": {
   "codemirror_mode": {
    "name": "ipython",
    "version": 3
   },
   "file_extension": ".py",
   "mimetype": "text/x-python",
   "name": "python",
   "nbconvert_exporter": "python",
   "pygments_lexer": "ipython3",
   "version": "3.11.0"
  },
  "orig_nbformat": 4,
  "vscode": {
   "interpreter": {
    "hash": "1f6a27bcfbe46a917dbd192f4a82657396dda26148bae633192e8d28c70725f1"
   }
  }
 },
 "nbformat": 4,
 "nbformat_minor": 2
}
